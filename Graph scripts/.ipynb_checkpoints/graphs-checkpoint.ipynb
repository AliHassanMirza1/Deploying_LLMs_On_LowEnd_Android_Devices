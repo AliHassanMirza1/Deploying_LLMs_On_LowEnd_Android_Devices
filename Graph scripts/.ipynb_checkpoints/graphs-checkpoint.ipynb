{
 "cells": [
  {
   "cell_type": "markdown",
   "id": "1a6e8700-206c-46a1-818a-20d59b31c557",
   "metadata": {},
   "source": [
    "# Graphs Scripts"
   ]
  },
  {
   "cell_type": "code",
   "execution_count": 3,
   "id": "01aa4d05-27b0-4b4c-8888-76a86955640c",
   "metadata": {},
   "outputs": [
    {
     "name": "stdout",
     "output_type": "stream",
     "text": [
      "Columns in the DataFrame: Index(['total duration(s)', 'load duration(s)', 'prompt eval count',\n",
      "       'prompt eval duration(s)', 'prompt eval rate(token/s)', 'eval count',\n",
      "       'eval duration(s)', 'eval rate(token/s)', 'model', 'mobile',\n",
      "       'sytem prompt template', 'prompt'],\n",
      "      dtype='object')\n"
     ]
    }
   ],
   "source": [
    "import pandas as pd\n",
    "import matplotlib.pyplot as plt\n",
    "import seaborn as sns\n",
    "import os\n",
    "import re  # Importing regular expressions to handle sanitization\n",
    "\n",
    "# Read data from the specified file\n",
    "file_path = './Latency/Latency_outputs.xlsx'\n",
    "output_directory = './box_whisker'\n",
    "os.makedirs(output_directory, exist_ok=True)\n",
    "\n",
    "# Read the data into a DataFrame\n",
    "df = pd.read_excel(file_path)\n",
    "\n",
    "# Strip any leading or trailing spaces from column names\n",
    "df.columns = df.columns.str.strip()\n",
    "\n",
    "# Check the column names to ensure there are no hidden characters or issues\n",
    "print(\"Columns in the DataFrame:\", df.columns)\n",
    "\n",
    "# Define the columns for which to generate box and whisker plots\n",
    "columns_to_plot = [\n",
    "    \"total duration(s)\",\n",
    "    \"load duration(s)\",\n",
    "    \"prompt eval duration(s)\",\n",
    "    \"prompt eval rate(token/s)\",\n",
    "    \"eval count\",\n",
    "    \"eval duration(s)\",\n",
    "    \"eval rate(token/s)\"\n",
    "]\n",
    "\n",
    "# Function to sanitize column names by removing or replacing problematic characters\n",
    "def sanitize_column_name(column_name):\n",
    "    # Replace backslashes, slashes, and other invalid characters with underscores\n",
    "    return re.sub(r'[\\\\/:*?\"<>|]', '_', column_name)\n",
    "\n",
    "# Function to plot box and whisker plots and save them\n",
    "def plot_and_save_box_whisker(dataframe, columns, prompt_column='prompt', output_dir=output_directory):\n",
    "    for column in columns:\n",
    "        # Ensure the column exists in the DataFrame before plotting\n",
    "        if column not in dataframe.columns:\n",
    "            print(f\"Warning: Column '{column}' not found in DataFrame.\")\n",
    "            continue\n",
    "\n",
    "        plt.figure(figsize=(10, 6))\n",
    "        sns.boxplot(data=dataframe, x=prompt_column, y=column)\n",
    "        plt.title(f\"Box and Whisker Plot for {column} by Prompt Type\")\n",
    "        plt.xlabel(\"Prompt Type\")\n",
    "        plt.ylabel(column)\n",
    "        plt.xticks(rotation=45)\n",
    "        plt.grid(True)\n",
    "        plt.tight_layout()\n",
    "        \n",
    "        # Sanitize the column name before saving the plot\n",
    "        sanitized_column = sanitize_column_name(column)\n",
    "        output_path = os.path.join(output_dir, f\"{sanitized_column}_box_whisker.png\")\n",
    "        plt.savefig(output_path)\n",
    "        plt.close()\n",
    "\n",
    "# Generate and save plots\n",
    "plot_and_save_box_whisker(df, columns_to_plot)\n"
   ]
  },
  {
   "cell_type": "code",
   "execution_count": 4,
   "id": "8961e955-9bdf-48a7-bb51-733490c0b86f",
   "metadata": {},
   "outputs": [],
   "source": [
    "df[\"context length\"] = df[\"eval count\"] + df[\"prompt eval count\"]"
   ]
  },
  {
   "cell_type": "code",
   "execution_count": 9,
   "id": "13d32bb3-99d4-4fe5-953f-90f89a228293",
   "metadata": {},
   "outputs": [
    {
     "name": "stderr",
     "output_type": "stream",
     "text": [
      "C:\\Users\\HP\\anaconda3\\Lib\\site-packages\\seaborn\\_oldcore.py:1119: FutureWarning: use_inf_as_na option is deprecated and will be removed in a future version. Convert inf values to NaN before operating instead.\n",
      "  with pd.option_context('mode.use_inf_as_na', True):\n",
      "C:\\Users\\HP\\anaconda3\\Lib\\site-packages\\seaborn\\_oldcore.py:1119: FutureWarning: use_inf_as_na option is deprecated and will be removed in a future version. Convert inf values to NaN before operating instead.\n",
      "  with pd.option_context('mode.use_inf_as_na', True):\n"
     ]
    }
   ],
   "source": [
    "def plot_context_length_vs_eval_rate(dataframe, x_column, y_column, output_dir=output_directory):\n",
    "    plt.figure(figsize=(12, 6))\n",
    "    sns.lineplot(data=dataframe, x=x_column, y=y_column, marker='o')\n",
    "    plt.title(f\"Context Length vs. {y_column}\")\n",
    "    plt.xlabel(x_column)\n",
    "    plt.ylabel(y_column)\n",
    "    plt.grid(True)\n",
    "    plt.tight_layout()\n",
    "\n",
    "    # Save the line graph\n",
    "    output_path = os.path.join(output_dir, f\"context_length_vs_{sanitize_column_name(y_column)}.png\")\n",
    "    # plt.savefig(output_path)\n",
    "    plt.close()\n",
    "\n",
    "# Plot and save the graph for context length vs eval rate\n",
    "\n",
    "plot_context_length_vs_eval_rate(df, \"context length\", \"eval rate(token/s)\")"
   ]
  },
  {
   "cell_type": "code",
   "execution_count": null,
   "id": "6a26bac4-19d6-4e1b-8f1f-c6e207e3f176",
   "metadata": {},
   "outputs": [],
   "source": []
  }
 ],
 "metadata": {
  "kernelspec": {
   "display_name": "Python 3 (ipykernel)",
   "language": "python",
   "name": "python3"
  },
  "language_info": {
   "codemirror_mode": {
    "name": "ipython",
    "version": 3
   },
   "file_extension": ".py",
   "mimetype": "text/x-python",
   "name": "python",
   "nbconvert_exporter": "python",
   "pygments_lexer": "ipython3",
   "version": "3.11.7"
  }
 },
 "nbformat": 4,
 "nbformat_minor": 5
}
